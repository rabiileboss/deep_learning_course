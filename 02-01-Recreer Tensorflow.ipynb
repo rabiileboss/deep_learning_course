{
  "cells": [
    {
      "cell_type": "code",
      "execution_count": 1,
      "metadata": {
        "colab": {
          "base_uri": "https://localhost:8080/"
        },
        "collapsed": true,
        "id": "tobNauEUQjeV",
        "outputId": "36b2ead5-a0fd-494f-b2c5-a0b3d2c29140"
      },
      "outputs": [
        {
          "output_type": "execute_result",
          "data": {
            "text/plain": [
              "array([[-1.33807731,  0.42478951,  1.05111298],\n",
              "       [-0.54916645,  0.57783537, -0.39757769],\n",
              "       [ 0.33873115, -2.19224612, -2.60699134],\n",
              "       [ 0.59517254, -0.51274205,  0.55131178]])"
            ]
          },
          "metadata": {},
          "execution_count": 1
        }
      ],
      "source": [
        "import numpy as np\n",
        "import matplotlib.pyplot as plt\n",
        "import pdb\n",
        "\n",
        "d_out = np.random.randn(4, 3)\n",
        "d_out"
      ]
    },
    {
      "cell_type": "code",
      "execution_count": 2,
      "metadata": {
        "colab": {
          "base_uri": "https://localhost:8080/"
        },
        "id": "tLPI8pzB-7_T",
        "outputId": "56abefb9-387c-4b12-d3b1-477f48dee8d2"
      },
      "outputs": [
        {
          "output_type": "execute_result",
          "data": {
            "text/plain": [
              "array([[0.22872563, 0.71123973, 0.9419253 ]])"
            ]
          },
          "metadata": {},
          "execution_count": 2
        }
      ],
      "source": [
        "B = np.random.rand(1, 3)\n",
        "B"
      ]
    },
    {
      "cell_type": "code",
      "execution_count": 3,
      "metadata": {
        "colab": {
          "base_uri": "https://localhost:8080/"
        },
        "id": "X7T587B_AIHQ",
        "outputId": "62b3aef9-ae12-4150-c7f4-a19342d07536"
      },
      "outputs": [
        {
          "output_type": "execute_result",
          "data": {
            "text/plain": [
              "array([[3.66192269, 5.42478951, 6.05111298],\n",
              "       [4.45083355, 5.57783537, 4.60242231],\n",
              "       [5.33873115, 2.80775388, 2.39300866],\n",
              "       [5.59517254, 4.48725795, 5.55131178]])"
            ]
          },
          "metadata": {},
          "execution_count": 3
        }
      ],
      "source": [
        "d_out + 5"
      ]
    },
    {
      "cell_type": "code",
      "execution_count": 4,
      "metadata": {
        "colab": {
          "base_uri": "https://localhost:8080/"
        },
        "id": "4njUNrX7fKxM",
        "outputId": "529960cb-51ea-4444-f93b-bc390b1ead0e"
      },
      "outputs": [
        {
          "output_type": "execute_result",
          "data": {
            "text/plain": [
              "array([[-1.10935168,  1.13602924,  1.99303827],\n",
              "       [-0.32044082,  1.28907509,  0.54434761],\n",
              "       [ 0.56745678, -1.48100639, -1.66506605],\n",
              "       [ 0.82389817,  0.19849768,  1.49323707]])"
            ]
          },
          "metadata": {},
          "execution_count": 4
        }
      ],
      "source": [
        "d_out + B"
      ]
    },
    {
      "cell_type": "code",
      "execution_count": 5,
      "metadata": {
        "colab": {
          "base_uri": "https://localhost:8080/"
        },
        "id": "tPdvHzwt-wx9",
        "outputId": "9fb6e316-223a-4fd3-fca6-aabb15ab67f0"
      },
      "outputs": [
        {
          "output_type": "execute_result",
          "data": {
            "text/plain": [
              "array([[-1.33807731,  0.42478951,  1.05111298],\n",
              "       [-0.54916645,  0.57783537, -0.39757769],\n",
              "       [ 0.33873115, -2.19224612, -2.60699134],\n",
              "       [ 0.59517254, -0.51274205,  0.55131178]])"
            ]
          },
          "metadata": {},
          "execution_count": 5
        }
      ],
      "source": [
        "r =  np.ones_like(B) * d_out\n",
        "r"
      ]
    },
    {
      "cell_type": "code",
      "execution_count": 6,
      "metadata": {
        "colab": {
          "base_uri": "https://localhost:8080/"
        },
        "id": "2npfwgVJ_d9Z",
        "outputId": "377d78db-e82d-4556-b1fd-8203b45af3f5"
      },
      "outputs": [
        {
          "output_type": "execute_result",
          "data": {
            "text/plain": [
              "array([[-0.95334007, -1.70236329, -1.40214427]])"
            ]
          },
          "metadata": {},
          "execution_count": 6
        }
      ],
      "source": [
        "r.sum(axis=0).reshape(1, B.shape[1])"
      ]
    },
    {
      "cell_type": "code",
      "execution_count": 7,
      "metadata": {
        "id": "kqzsTGI2FNcm"
      },
      "outputs": [],
      "source": [
        "weight = np.random.randn(5, 4)\n",
        "biais = np.random.randn(1, 4)"
      ]
    },
    {
      "cell_type": "code",
      "execution_count": 8,
      "metadata": {
        "colab": {
          "base_uri": "https://localhost:8080/"
        },
        "id": "RjCC5erOFb7W",
        "outputId": "567e8b5c-407e-43ae-9bdc-c447030135c2"
      },
      "outputs": [
        {
          "output_type": "execute_result",
          "data": {
            "text/plain": [
              "[array([[ 0.10928022,  0.52732969,  1.115538  ,  0.68919923],\n",
              "        [ 0.10017813,  0.79238695,  1.68524817, -0.46508893],\n",
              "        [-0.1690714 , -0.3026148 , -1.05637299, -1.77589906],\n",
              "        [ 0.09543905,  0.93302939,  0.39115095,  0.23622747],\n",
              "        [-0.52695245,  0.1505414 , -0.98125058, -0.5927175 ]]),\n",
              " array([[-0.13215517, -0.55939219,  0.98538867, -0.32360929]])]"
            ]
          },
          "metadata": {},
          "execution_count": 8
        }
      ],
      "source": [
        "params = []\n",
        "params.append(weight)\n",
        "params.append(biais)\n",
        "params"
      ]
    },
    {
      "cell_type": "code",
      "execution_count": 9,
      "metadata": {
        "id": "y6UJMvXtRlwA"
      },
      "outputs": [],
      "source": [
        "class Boite():\n",
        "\n",
        "  def __init__(self):\n",
        "    pass\n",
        "\n",
        "  def forward(self, inputs):\n",
        "    self.inputs = inputs\n",
        "    self.output = self.operation()\n",
        "    return self.output\n",
        "\n",
        "  def backward(self, derivee_output, output = None, parametre_donnee= None, input_couche = None ):\n",
        "    self.output = output\n",
        "    self.params = parametre_donnee\n",
        "    self.inputs = input_couche\n",
        "\n",
        "    assert derivee_output.shape == self.output.shape, f\"La derivee_output reçue a un shape {derivee_output.shape} et different du shape de output : {self.output.shape}\"\n",
        "\n",
        "    self.derivee_inputs = self.gradient(derivee_output)\n",
        "    assert self.derivee_inputs.shape == self.inputs.shape, f\"La derivee_input calculée a un shape {self.derivee_inputs.shape } et different du shape de inputs : {self.inputs.shape}\"\n",
        "\n",
        "    return self.derivee_inputs\n",
        "\n",
        "\n",
        "  def operation(self):\n",
        "    pass\n",
        "\n",
        "  def gradient(self, derivee_output):\n",
        "    pass"
      ]
    },
    {
      "cell_type": "code",
      "execution_count": 10,
      "metadata": {
        "id": "tfHThGpPR4Wl"
      },
      "outputs": [],
      "source": [
        "class BoiteParam():\n",
        "\n",
        "  def __init__(self, param):\n",
        "    self.param = param\n",
        "\n",
        "  def forward(self, inputs):\n",
        "    self.inputs = inputs\n",
        "    self.output = self.operation()\n",
        "    return self.output\n",
        "\n",
        "  def backward(self, derivee_output,  output = None, parametre_donnee= None, input_couche = None):\n",
        "    self.output = output\n",
        "    self.param = parametre_donnee\n",
        "    self.inputs = input_couche\n",
        "\n",
        "    assert derivee_output.shape == self.output.shape, f\"La derivee_output reçue a un shape {derivee_output.shape} et different du shape de output : {self.output}\"\n",
        "\n",
        "    self.derivee_inputs = self.gradient(derivee_output)\n",
        "    assert self.derivee_inputs.shape == self.inputs.shape, f\"La derivee_input calculée a un shape {self.derivee_inputs.shape } et different du shape de inputs : {self.inputs.shape}\"\n",
        "\n",
        "    self.derivee_param = self.gradient_param(derivee_output)\n",
        "    assert self.derivee_param.shape == self.param.shape, f\"La derivee de param a un shape {self.derivee_param.shape} et different du shape de param : {self.param.shape}\"\n",
        "\n",
        "    return self.derivee_inputs\n",
        "\n",
        "\n",
        "  def operation(self):\n",
        "    pass\n",
        "\n",
        "  def gradient(self, derivee_output):\n",
        "    pass\n",
        "\n",
        "\n",
        "  def gradient_param(self, derivee_output):\n",
        "    pass"
      ]
    },
    {
      "cell_type": "code",
      "execution_count": 11,
      "metadata": {
        "id": "aDVl8zq7R8VP"
      },
      "outputs": [],
      "source": [
        "class Dot(BoiteParam):\n",
        "\n",
        "  def __init__(self, weights):\n",
        "    super().__init__(weights)\n",
        "\n",
        "  def operation(self):\n",
        "    return np.dot(self.inputs, self.param)\n",
        "\n",
        "  def gradient(self, derivee_output):\n",
        "    return np.dot( derivee_output, self.param.T)\n",
        "\n",
        "  def gradient_param(self, derivee_output):\n",
        "    return np.dot(self.inputs.T, derivee_output)\n",
        "\n",
        "  def __repr__(self):\n",
        "    return \"DotProduct\""
      ]
    },
    {
      "cell_type": "code",
      "execution_count": 12,
      "metadata": {
        "id": "qO2JkuQBSAbO"
      },
      "outputs": [],
      "source": [
        "class Add(BoiteParam):\n",
        "\n",
        "  def __init__(self, biais):\n",
        "    super().__init__(biais)\n",
        "\n",
        "  def operation(self):\n",
        "    return self.inputs + self.param\n",
        "\n",
        "  def gradient(self, derivee_output):\n",
        "    return np.ones_like(self.inputs) * derivee_output\n",
        "\n",
        "  def gradient_param(self, derivee_output):\n",
        "    r =  np.ones_like(self.param) * derivee_output\n",
        "    return r.sum(axis=0).reshape(1, self.param.shape[1])\n",
        "\n",
        "  def __repr__(self):\n",
        "    return \"AddBiais\""
      ]
    },
    {
      "cell_type": "code",
      "execution_count": 13,
      "metadata": {
        "id": "X6p7wiDQSDmD"
      },
      "outputs": [],
      "source": [
        "class Sigmoid(Boite):\n",
        "\n",
        "  def __init__(self):\n",
        "    super().__init__()\n",
        "\n",
        "  def operation(self):\n",
        "    return 1 / (1 + np.exp(-1 * self.inputs))\n",
        "\n",
        "  def gradient(self, derivee_output):\n",
        "    return self.output * (1 - self.output) * derivee_output\n",
        "\n",
        "  def __repr__(self):\n",
        "    return \"sigmoid\""
      ]
    },
    {
      "cell_type": "code",
      "execution_count": 14,
      "metadata": {
        "id": "Ku0FhTnFSG_Z"
      },
      "outputs": [],
      "source": [
        "class Loss():\n",
        "\n",
        "  def __init__(self):\n",
        "    pass\n",
        "\n",
        "  def forward(self, prediction, target):\n",
        "    assert prediction.shape == target.shape, f\"Prediction shape {prediction.shape}  Target shape {target.shape}\"\n",
        "    self.prediction = prediction\n",
        "    self.target = target\n",
        "    loss = np.mean((self.target - self.prediction) ** 2)\n",
        "    return loss\n",
        "\n",
        "  def backward(self, prediction, target):\n",
        "    self.target = target\n",
        "    self.prediction = prediction\n",
        "\n",
        "    self.loss_derivee = -2 * (self.target - self.prediction)\n",
        "    assert self.loss_derivee.shape == self.prediction.shape, f\"La derivee du loss un shape {self.loss_derivee.shape } et different du shape de Prediction : {self.prediction.shape}\"\n",
        "\n",
        "    return self.loss_derivee"
      ]
    },
    {
      "cell_type": "code",
      "execution_count": 15,
      "metadata": {
        "id": "C7U1gDhwSLnt"
      },
      "outputs": [],
      "source": [
        "class Dense():\n",
        "\n",
        "  def __init__(self, neurons, activation=None):\n",
        "    self.neurons = neurons\n",
        "    self.activation = activation\n",
        "    self.params = []\n",
        "    self.suite = []\n",
        "    self.initialisation = True\n",
        "\n",
        "\n",
        "\n",
        "  def build(self, inputs):\n",
        "    # weights initialization\n",
        "    np.random.seed(42)\n",
        "\n",
        "    self.weights = np.random.randn(inputs.shape[1], self.neurons)\n",
        "    self.biais = np.random.randn(1, self.neurons)\n",
        "\n",
        "    self.params.append(self.weights)\n",
        "    self.params.append(self.biais)\n",
        "    # construction de la suite d'opération\n",
        "    self.suite = [Dot(weights=self.params[0]), Add(biais=self.params[1])]\n",
        "    if self.activation:\n",
        "      self.suite.append(self.activation)\n",
        "\n",
        "\n",
        "  def forward(self, inputs):\n",
        "    if self.initialisation:\n",
        "      self.build(inputs)\n",
        "      self.initialisation = False\n",
        "\n",
        "    for boite in self.suite:\n",
        "      inputs = boite.forward(inputs)\n",
        "\n",
        "      self.output = inputs\n",
        "\n",
        "    return self.output\n",
        "\n",
        "\n",
        "  def backward(self, derivee_output, output_dot=None, output_biais=None, output_sigmoid=None, parms_dot=None, params_biais=None, input_dot_level = None, input_biais_level= None, input_sigmoid_level= None):\n",
        "    input = {'output': {'DotProduct': output_dot,\n",
        "                       'AddBiais': output_biais,\n",
        "                       'sigmoid': output_sigmoid},\n",
        "            'params': {'DotProduct': parms_dot,\n",
        "                       'AddBiais': params_biais},\n",
        "             'input': {'DotProduct': input_dot_level, # input au niveau du dot\n",
        "                       'AddBiais': input_biais_level, #input au niveau du add\n",
        "                       'sigmoid': input_sigmoid_level} #input au niveau du sigma\n",
        "            }\n",
        "    for boite in reversed(self.suite):\n",
        "        output = input['output'][f\"{boite}\"]\n",
        "        input_layer = input['input'][f\"{boite}\"]\n",
        "\n",
        "        assert derivee_output.shape == output.shape\n",
        "\n",
        "        if f\"{boite}\" != \"sigmoid\": #boite egale a Dot ou Biais\n",
        "          params = input['params'][f\"{boite}\"]\n",
        "        else:\n",
        "          params = None\n",
        "\n",
        "        assert derivee_output.shape == output.shape\n",
        "        derivee_output = boite.backward(derivee_output, output, parametre_donnee=params, input_couche = input_layer )\n",
        "\n",
        "\n",
        "    derivee_inputs = derivee_output\n",
        "\n",
        "    #comme executer avant on peut la recuperer\n",
        "    self.get_layer_gradients()\n",
        "\n",
        "    return derivee_inputs\n",
        "\n",
        "  def get_layer_gradients(self):\n",
        "\n",
        "    self.derivee_params = []\n",
        "\n",
        "    for boite in self.suite:\n",
        "      if issubclass(boite.__class__, BoiteParam):\n",
        "        self.derivee_params.append(boite.derivee_param)\n",
        "\n",
        "\n",
        "\n",
        "  def __repr__(self):\n",
        "    r = f\"DenseLayer(neurons={self.neurons})\"\n",
        "    if self.activation:\n",
        "      r += \" avec Sigmoid\"\n",
        "\n",
        "    return r"
      ]
    },
    {
      "cell_type": "code",
      "execution_count": 16,
      "metadata": {
        "id": "bIOOJ-dXSazm"
      },
      "outputs": [],
      "source": [
        "sigmoid = Sigmoid()\n",
        "couche = Dense(neurons=2, activation=sigmoid)"
      ]
    },
    {
      "cell_type": "code",
      "execution_count": 17,
      "metadata": {
        "id": "en1q1kgRSkOv"
      },
      "outputs": [],
      "source": [
        "X = np.array([[ 2,  3, -2],\n",
        "       [ 4,  5, -1],\n",
        "       [-5,  2,  3],\n",
        "       [ 0,  5,  4]])\n",
        "Y = np.random.randn(4, 1)"
      ]
    },
    {
      "cell_type": "code",
      "execution_count": 18,
      "metadata": {
        "id": "OT5KPY43Ssms",
        "colab": {
          "base_uri": "https://localhost:8080/"
        },
        "outputId": "f032cb90-d223-4a26-9703-bfab717c6514"
      },
      "outputs": [
        {
          "output_type": "execute_result",
          "data": {
            "text/plain": [
              "[]"
            ]
          },
          "metadata": {},
          "execution_count": 18
        }
      ],
      "source": [
        "couche.suite"
      ]
    },
    {
      "cell_type": "code",
      "execution_count": 19,
      "metadata": {
        "id": "u56tsspwSpha",
        "colab": {
          "base_uri": "https://localhost:8080/"
        },
        "outputId": "14297abb-55a3-405a-dd89-c1d6465eb1cf"
      },
      "outputs": [
        {
          "output_type": "execute_result",
          "data": {
            "text/plain": [
              "array([[0.99320003, 0.99604286],\n",
              "       [0.99912347, 0.99968533],\n",
              "       [0.42276305, 0.97817014],\n",
              "       [0.97978765, 0.99941659]])"
            ]
          },
          "metadata": {},
          "execution_count": 19
        }
      ],
      "source": [
        "couche.forward(X)"
      ]
    },
    {
      "cell_type": "code",
      "execution_count": 20,
      "metadata": {
        "id": "rbyvRZE8S0UW",
        "colab": {
          "base_uri": "https://localhost:8080/"
        },
        "outputId": "40ee9d0f-b98b-44d0-8ee7-633406eed0ed"
      },
      "outputs": [
        {
          "output_type": "execute_result",
          "data": {
            "text/plain": [
              "[DotProduct, AddBiais, sigmoid]"
            ]
          },
          "metadata": {},
          "execution_count": 20
        }
      ],
      "source": [
        "couche.suite"
      ]
    },
    {
      "cell_type": "code",
      "source": [
        "#recuperation output apres le dot\n",
        "couche.suite[0].output"
      ],
      "metadata": {
        "colab": {
          "base_uri": "https://localhost:8080/"
        },
        "id": "iH1OoZ0W6J6t",
        "outputId": "c38dbb7d-851b-4473-ce30-36689ab764ea"
      },
      "execution_count": 21,
      "outputs": [
        {
          "output_type": "execute_result",
          "data": {
            "text/plain": [
              "array([[ 3.40480067,  4.76083488],\n",
              "       [ 5.45945268,  7.29622903],\n",
              "       [-1.89065381,  3.03497035],\n",
              "       [ 2.30182919,  6.67860145]])"
            ]
          },
          "metadata": {},
          "execution_count": 21
        }
      ]
    },
    {
      "cell_type": "code",
      "source": [
        "#recuperation des parametres\n",
        "couche.suite[0].param\n"
      ],
      "metadata": {
        "colab": {
          "base_uri": "https://localhost:8080/"
        },
        "id": "zEx0uKZM7L6V",
        "outputId": "c54330fa-66fb-4ecc-ce24-eb5ae32a896d"
      },
      "execution_count": 22,
      "outputs": [
        {
          "output_type": "execute_result",
          "data": {
            "text/plain": [
              "array([[ 0.49671415, -0.1382643 ],\n",
              "       [ 0.64768854,  1.52302986],\n",
              "       [-0.23415337, -0.23413696]])"
            ]
          },
          "metadata": {},
          "execution_count": 22
        }
      ]
    },
    {
      "cell_type": "code",
      "execution_count": 23,
      "metadata": {
        "colab": {
          "base_uri": "https://localhost:8080/"
        },
        "id": "npyNrzfhS_s8",
        "outputId": "bafebfb8-d9dc-4a52-96ef-b113640058d5"
      },
      "outputs": [
        {
          "output_type": "execute_result",
          "data": {
            "text/plain": [
              "False"
            ]
          },
          "metadata": {},
          "execution_count": 23
        }
      ],
      "source": [
        "couche.initialisation #comme on a lancer une fois initialisation doit etre a false"
      ]
    },
    {
      "cell_type": "code",
      "execution_count": 24,
      "metadata": {
        "colab": {
          "base_uri": "https://localhost:8080/"
        },
        "id": "Qt_MaiAzqLPJ",
        "outputId": "01921241-835a-46bf-a725-4d79f8793ff9"
      },
      "outputs": [
        {
          "output_type": "execute_result",
          "data": {
            "text/plain": [
              "array([[ 2,  3, -2],\n",
              "       [ 4,  5, -1],\n",
              "       [-5,  2,  3],\n",
              "       [ 0,  5,  4]])"
            ]
          },
          "metadata": {},
          "execution_count": 24
        }
      ],
      "source": [
        "couche.suite[0].inputs #on peut recuperer l'input qui entre dans dot"
      ]
    },
    {
      "cell_type": "code",
      "execution_count": 25,
      "metadata": {
        "colab": {
          "base_uri": "https://localhost:8080/"
        },
        "id": "VF3ITX3NXK1i",
        "outputId": "b5ca3ec5-de17-450e-c4d6-66406a1f2c3c"
      },
      "outputs": [
        {
          "output_type": "stream",
          "name": "stdout",
          "text": [
            "input biais = [[ 3.40480067  4.76083488]\n",
            " [ 5.45945268  7.29622903]\n",
            " [-1.89065381  3.03497035]\n",
            " [ 2.30182919  6.67860145]] est egale a output de dot [[ 3.40480067  4.76083488]\n",
            " [ 5.45945268  7.29622903]\n",
            " [-1.89065381  3.03497035]\n",
            " [ 2.30182919  6.67860145]]\n"
          ]
        }
      ],
      "source": [
        "#on peut recuperer l'input qui entre dans biais et donc l'output de dot\n",
        "if np.array_equal(couche.suite[1].inputs, couche.suite[0].output):\n",
        "    print('input biais =', couche.suite[1].inputs, \"est egale a output de dot\", couche.suite[0].output)\n",
        "else:\n",
        "    print('input biais =', couche.suite[1].inputs, \"n'est pas egale a output de dot\", couche.suite[0].output)"
      ]
    },
    {
      "cell_type": "code",
      "execution_count": 26,
      "metadata": {
        "id": "Byd0UxBYXmTo"
      },
      "outputs": [],
      "source": [
        "#couche.suite[0].derivee_inputs #comme pas de bakward fait precedemment alors err"
      ]
    },
    {
      "cell_type": "code",
      "execution_count": 27,
      "metadata": {
        "colab": {
          "base_uri": "https://localhost:8080/"
        },
        "id": "Jmgyz08oaldF",
        "outputId": "d5e71772-7fed-40fa-b7e4-46175f3d3fef"
      },
      "outputs": [
        {
          "output_type": "execute_result",
          "data": {
            "text/plain": [
              "array([[-0.46947439,  0.54256004],\n",
              "       [-0.46341769, -0.46572975],\n",
              "       [ 0.24196227, -1.91328024],\n",
              "       [-1.72491783, -0.56228753]])"
            ]
          },
          "metadata": {},
          "execution_count": 27
        }
      ],
      "source": [
        "# backward -> il faut que la derivee de l'output doit etre egale à l'output : output shape : (4,2) donc je dois donner un output de la forme (4,2)\n",
        "deriveproduitprecedent_output_pour_bakcward = np.random.randn(couche.forward(X).shape[0], couche.forward(X).shape[1])\n",
        "deriveproduitprecedent_output_pour_bakcward"
      ]
    },
    {
      "cell_type": "code",
      "source": [
        "couche.suite[0].inputs"
      ],
      "metadata": {
        "colab": {
          "base_uri": "https://localhost:8080/"
        },
        "id": "9MeZ3k9S5mZg",
        "outputId": "a72e86f9-2bac-4c87-ea16-64ff62f01d26"
      },
      "execution_count": 28,
      "outputs": [
        {
          "output_type": "execute_result",
          "data": {
            "text/plain": [
              "array([[ 2,  3, -2],\n",
              "       [ 4,  5, -1],\n",
              "       [-5,  2,  3],\n",
              "       [ 0,  5,  4]])"
            ]
          },
          "metadata": {},
          "execution_count": 28
        }
      ]
    },
    {
      "cell_type": "code",
      "execution_count": 29,
      "metadata": {
        "colab": {
          "base_uri": "https://localhost:8080/"
        },
        "id": "KGGBztr4baIO",
        "outputId": "119383cb-27db-4782-cf81-5affebaeddab"
      },
      "outputs": [
        {
          "output_type": "execute_result",
          "data": {
            "text/plain": [
              "array([[-0.00187061,  0.00120335,  0.00024173],\n",
              "       [-0.00018133, -0.00048599,  0.00012933],\n",
              "       [ 0.03497832, -0.02397904, -0.00426045],\n",
              "       [-0.0169224 , -0.02262434,  0.00807543]])"
            ]
          },
          "metadata": {},
          "execution_count": 29
        }
      ],
      "source": [
        "couche.backward(deriveproduitprecedent_output_pour_bakcward,\n",
        "                output_dot= couche.suite[0].output,\n",
        "                output_biais= couche.suite[1].output,\n",
        "                output_sigmoid= couche.suite[2].output,\n",
        "                parms_dot= couche.suite[0].param,\n",
        "                params_biais= couche.suite[1].param,\n",
        "                input_dot_level = X,\n",
        "                input_biais_level = couche.suite[1].inputs,\n",
        "                input_sigmoid_level = couche.suite[2].inputs)"
      ]
    },
    {
      "cell_type": "code",
      "execution_count": 30,
      "metadata": {
        "colab": {
          "base_uri": "https://localhost:8080/"
        },
        "id": "ms063KYDbn6K",
        "outputId": "963d2d7b-b2bc-4ee4-87c4-3184dd14bc10"
      },
      "outputs": [
        {
          "output_type": "execute_result",
          "data": {
            "text/plain": [
              "array([[-0.00187061,  0.00120335,  0.00024173],\n",
              "       [-0.00018133, -0.00048599,  0.00012933],\n",
              "       [ 0.03497832, -0.02397904, -0.00426045],\n",
              "       [-0.0169224 , -0.02262434,  0.00807543]])"
            ]
          },
          "metadata": {},
          "execution_count": 30
        }
      ],
      "source": [
        "couche.suite[0].derivee_inputs # la ca fonctionne on a donc la derrivée par rapport a l'input et donc ici dans notre cas par rapport a x c'est donc egale a W_transposé * le produit de ce qui c'est passé avant . a note de la meme shape que l'input"
      ]
    },
    {
      "cell_type": "code",
      "execution_count": 31,
      "metadata": {
        "id": "5JgNaHcSTCmT"
      },
      "outputs": [],
      "source": [
        "from copy import deepcopy\n",
        "import pdb\n",
        "\n",
        "class Model():\n",
        "\n",
        "  def __init__(self, layers):\n",
        "    self.layers = layers\n",
        "    self.compiled = False\n",
        "    self.output_couche={}\n",
        "    self.params_couche={}\n",
        "    self.couche_numero = 0\n",
        "\n",
        "  def forward(self, inputs, validation = False):\n",
        "\n",
        "    for layer in self.layers:\n",
        "      # import pdb; pdb.set_trace()\n",
        "      #recuperation des outputs parms et input apres chaque boite\n",
        "      layer_key = f\"{layer}_couche numero_{self.couche_numero}\"\n",
        "      self.output_couche[layer_key] = {\n",
        "            \"output\": {},\n",
        "            \"params\": {},\n",
        "            \"input\": {}\n",
        "        }\n",
        "      if validation == False:\n",
        "        #insertion de l'input pr le dot\n",
        "        self.output_couche[layer_key][\"input\"][\"dot_level\"] = inputs\n",
        "\n",
        "      #on fait notre forward\n",
        "      inputs = layer.forward(inputs)\n",
        "\n",
        "      if validation == False:\n",
        "        self.output_couche[layer_key][\"input\"][\"biais_level\"] = layer.suite[0].output\n",
        "        self.output_couche[layer_key][\"input\"][\"sigmoid_level\"] = layer.suite[1].output\n",
        "\n",
        "        self.output_couche[layer_key][\"output\"][\"dot\"] = layer.suite[0].output\n",
        "        self.output_couche[layer_key][\"output\"][\"biais\"] = layer.suite[1].output\n",
        "        # Recuperation output de la boite sigmoid car pas obligatoire\n",
        "        if len(layer.suite) == 3:\n",
        "              self.output_couche[layer_key][\"output\"][\"sigmoid\"] = layer.suite[2].output\n",
        "              self.output_couche[layer_key][\"input\"][\"biais\"] = layer.suite[1].output\n",
        "\n",
        "        # Recuperation des parametres de chaque boite\n",
        "        self.output_couche[layer_key][\"params\"][\"dot\"] = layer.suite[0].param\n",
        "        self.output_couche[layer_key][\"params\"][\"biais\"] = layer.suite[1].param\n",
        "\n",
        "      self.couche_numero += 1\n",
        "      self.output = inputs\n",
        "\n",
        "    return self.output\n",
        "\n",
        "\n",
        "\n",
        "\n",
        "  def backward(self, loss_derivee):\n",
        "\n",
        "\n",
        "    self.couche_numero = (len(self.layers) - 1) #car 0 compte donc si 3 elements on a 0 1 2 et non 123 ## on commence de la derniere couche et on termine a la premiere\n",
        "    for layer in reversed(self.layers):\n",
        "\n",
        "      layer_key = f\"{layer}_couche numero_{self.couche_numero}\"\n",
        "      nombre_boite = len(self.output_couche[layer_key][\"output\"])\n",
        "\n",
        "      output = self.output_couche[layer_key][\"output\"]\n",
        "      params = self.output_couche[layer_key][\"params\"]\n",
        "      input = self.output_couche[layer_key][\"input\"]\n",
        "\n",
        "      if nombre_boite == 3:\n",
        "        assert loss_derivee.shape == output[\"sigmoid\"].shape\n",
        "        loss_derivee = layer.backward(loss_derivee, output_dot=output[\"dot\"], output_biais = output[\"biais\"], output_sigmoid = output[\"sigmoid\"], params_biais = params[\"biais\"], parms_dot = params[\"dot\"], input_dot_level = input[\"dot_level\"], input_biais_level= input[\"biais_level\"], input_sigmoid_level= input[\"sigmoid_level\"] )\n",
        "      elif nombre_boite == 2:\n",
        "        assert loss_derivee.shape == output[\"biais\"].shape\n",
        "        loss_derivee = layer.backward(loss_derivee, output_dot=output[\"dot\"], output_biais = output[\"biais\"], params_biais = params[\"biais\"], parms_dot = params[\"dot\"], input_dot_level = input[\"dot_level\"], input_biais_level= input[\"biais_level\"], input_sigmoid_level= input[\"sigmoid_level\"] )\n",
        "\n",
        "      self.couche_numero -= 1\n",
        "\n",
        "\n",
        "\n",
        "\n",
        "    return None\n",
        "\n",
        "  def get_params(self):\n",
        "    for layer in self.layers:\n",
        "      yield from layer.params\n",
        "\n",
        "\n",
        "  def get_derivee_params(self):\n",
        "    for layer in self.layers:\n",
        "      yield from layer.derivee_params\n",
        "\n",
        "\n",
        "  def update(self):\n",
        "\n",
        "    for (param, derivee_param) in zip(self.get_params(), self.get_derivee_params()):\n",
        "      assert param.shape == derivee_param.shape\n",
        "      param -=   self.learning_rate * derivee_param\n",
        "\n",
        "\n",
        "  def compile(self, loss, learning_rate):\n",
        "    self.loss = loss\n",
        "    self.learning_rate = learning_rate\n",
        "    self.compiled = True\n",
        "\n",
        "\n",
        "  def fit(self, X, Y, epochs, validation_data=None):\n",
        "\n",
        "    if validation_data:\n",
        "      assert len(validation_data) == 2\n",
        "      assert validation_data[0].shape[1] == X.shape[1]\n",
        "      assert validation_data[1].shape[1] == Y.shape[1]\n",
        "\n",
        "    self.history = {\"loss\":[]}\n",
        "    if validation_data:\n",
        "      self.history['val_loss'] = []\n",
        "\n",
        "\n",
        "    if not self.compiled:\n",
        "      raise NotImplementedError(\"Pas de loss et de learning_rate: Compilez\")\n",
        "\n",
        "    for epoch in range(epochs):\n",
        "\n",
        "      # forward pass\n",
        "      predictions = model.forward(X)\n",
        "      loss = self.loss\n",
        "      err_prediction = loss.forward(predictions, Y)\n",
        "      self.history['loss'].append(err_prediction)\n",
        "\n",
        "\n",
        "      # val loss\n",
        "      if validation_data:\n",
        "        val_preds = model.forward(validation_data[0], validation = True)\n",
        "        val_loss = self.loss\n",
        "        val_err_prediction = val_loss.forward(val_preds, validation_data[1])\n",
        "        self.history['val_loss'].append(val_err_prediction)\n",
        "\n",
        "      log = f'Epoch {epoch+1} .............. loss : {err_prediction}'\n",
        "      if validation_data:\n",
        "        log += f\"  ....val_loss : {val_err_prediction}\"\n",
        "      print(log)\n",
        "\n",
        "\n",
        "\n",
        "      # backward pass\n",
        "      loss_derivee = loss.backward(target = Y, prediction = predictions)\n",
        "      self.backward(loss_derivee)\n",
        "\n",
        "      # update\n",
        "      self.update()\n",
        "\n",
        "    return self.history\n",
        "\n",
        "  def save_model(self, file):\n",
        "    model_save = deepcopy(self)\n",
        "\n",
        "    import pickle\n",
        "    with open(file, \"wb\") as f:\n",
        "      pickle.dump(model_save, f)\n",
        "\n",
        "\n",
        "  def __repr__(self):\n",
        "\n",
        "    r = \"Layers .................\"\n",
        "    for layer in self.layers:\n",
        "      r += f\" \\n {str(layer)}\"\n",
        "\n",
        "    return r"
      ]
    },
    {
      "cell_type": "markdown",
      "source": [
        "#forward"
      ],
      "metadata": {
        "id": "NqzXxnYb15rO"
      }
    },
    {
      "cell_type": "code",
      "execution_count": 32,
      "metadata": {
        "colab": {
          "base_uri": "https://localhost:8080/"
        },
        "id": "5_1qq_dcVDaK",
        "outputId": "cddfd3fc-a0f6-4465-a157-107fdd0c3e35"
      },
      "outputs": [
        {
          "output_type": "execute_result",
          "data": {
            "text/plain": [
              "(4, 3)"
            ]
          },
          "metadata": {},
          "execution_count": 32
        }
      ],
      "source": [
        "X.shape"
      ]
    },
    {
      "cell_type": "code",
      "execution_count": 33,
      "metadata": {
        "id": "35iPtR4JUgn_"
      },
      "outputs": [],
      "source": [
        "layers = [ Dense(neurons=3, activation=sigmoid),\n",
        "          Dense(neurons=5, activation=sigmoid),\n",
        "       Dense(neurons=1)]"
      ]
    },
    {
      "cell_type": "code",
      "execution_count": 34,
      "metadata": {
        "colab": {
          "base_uri": "https://localhost:8080/"
        },
        "id": "94k3amHIbtNI",
        "outputId": "9b37b48a-a4e2-4606-c323-65a9d24fe5ad"
      },
      "outputs": [
        {
          "output_type": "execute_result",
          "data": {
            "text/plain": [
              "Layers ................. \n",
              " DenseLayer(neurons=3) avec Sigmoid \n",
              " DenseLayer(neurons=5) avec Sigmoid \n",
              " DenseLayer(neurons=1)"
            ]
          },
          "metadata": {},
          "execution_count": 34
        }
      ],
      "source": [
        "model = Model(layers)\n",
        "model"
      ]
    },
    {
      "cell_type": "code",
      "execution_count": 35,
      "metadata": {
        "colab": {
          "base_uri": "https://localhost:8080/"
        },
        "id": "rLINNeKF5F2H",
        "outputId": "85a906e1-f6f9-4fda-bd77-042e2a2fafcd"
      },
      "outputs": [
        {
          "output_type": "execute_result",
          "data": {
            "text/plain": [
              "array([[0.84993545],\n",
              "       [0.84362513],\n",
              "       [1.22210677],\n",
              "       [1.22425779]])"
            ]
          },
          "metadata": {},
          "execution_count": 35
        }
      ],
      "source": [
        "model.forward(X)"
      ]
    },
    {
      "cell_type": "code",
      "execution_count": 36,
      "metadata": {
        "colab": {
          "base_uri": "https://localhost:8080/"
        },
        "id": "X8HYsmJj6LG7",
        "outputId": "bbd37a97-5190-41e0-ea1c-de3aa9500262"
      },
      "outputs": [
        {
          "output_type": "execute_result",
          "data": {
            "text/plain": [
              "False"
            ]
          },
          "metadata": {},
          "execution_count": 36
        }
      ],
      "source": [
        "model.layers[0].initialisation # une premiere execution a ete faite donc initialisation doit passer a false"
      ]
    },
    {
      "cell_type": "code",
      "execution_count": 37,
      "metadata": {
        "colab": {
          "base_uri": "https://localhost:8080/"
        },
        "id": "SbLOwh6hr_vT",
        "outputId": "61f74f8b-ce88-4579-9253-f5640e949a85"
      },
      "outputs": [
        {
          "output_type": "execute_result",
          "data": {
            "text/plain": [
              "[array([[ 0.49671415, -0.1382643 ,  0.64768854],\n",
              "        [ 1.52302986, -0.23415337, -0.23413696],\n",
              "        [ 1.57921282,  0.76743473, -0.46947439]]),\n",
              " array([[ 0.54256004, -0.46341769, -0.46572975]])]"
            ]
          },
          "metadata": {},
          "execution_count": 37
        }
      ],
      "source": [
        "model.layers[0].params"
      ]
    },
    {
      "cell_type": "code",
      "execution_count": 38,
      "metadata": {
        "colab": {
          "base_uri": "https://localhost:8080/"
        },
        "id": "CxcA3rJGsHms",
        "outputId": "bc80d2c1-3eda-432a-81a9-8402c80bb57e"
      },
      "outputs": [
        {
          "output_type": "execute_result",
          "data": {
            "text/plain": [
              "[array([[ 0.49671415, -0.1382643 ,  0.64768854,  1.52302986, -0.23415337],\n",
              "        [-0.23413696,  1.57921282,  0.76743473, -0.46947439,  0.54256004],\n",
              "        [-0.46341769, -0.46572975,  0.24196227, -1.91328024, -1.72491783]]),\n",
              " array([[-0.56228753, -1.01283112,  0.31424733, -0.90802408, -1.4123037 ]])]"
            ]
          },
          "metadata": {},
          "execution_count": 38
        }
      ],
      "source": [
        "model.layers[1].params"
      ]
    },
    {
      "cell_type": "code",
      "execution_count": 39,
      "metadata": {
        "id": "_vMe4ZOR7sL8"
      },
      "outputs": [],
      "source": [
        "params= model.get_params()"
      ]
    },
    {
      "cell_type": "code",
      "execution_count": 40,
      "metadata": {
        "colab": {
          "base_uri": "https://localhost:8080/"
        },
        "id": "LYp6cBmv7v24",
        "outputId": "99b05c58-4a6d-49eb-b5a6-3e8b1cb8653a"
      },
      "outputs": [
        {
          "output_type": "execute_result",
          "data": {
            "text/plain": [
              "array([[ 0.49671415, -0.1382643 ,  0.64768854],\n",
              "       [ 1.52302986, -0.23415337, -0.23413696],\n",
              "       [ 1.57921282,  0.76743473, -0.46947439]])"
            ]
          },
          "metadata": {},
          "execution_count": 40
        }
      ],
      "source": [
        "next(params)"
      ]
    },
    {
      "cell_type": "code",
      "execution_count": 41,
      "metadata": {
        "colab": {
          "base_uri": "https://localhost:8080/"
        },
        "id": "o5ldIz51sKS6",
        "outputId": "26159c9d-9940-4fba-8b53-490f5978a10b"
      },
      "outputs": [
        {
          "output_type": "stream",
          "name": "stdout",
          "text": [
            "parametre [[ 0.49671415 -0.1382643   0.64768854]\n",
            " [ 1.52302986 -0.23415337 -0.23413696]\n",
            " [ 1.57921282  0.76743473 -0.46947439]]\n",
            "parametre [[ 0.54256004 -0.46341769 -0.46572975]]\n",
            "parametre [[ 0.49671415 -0.1382643   0.64768854  1.52302986 -0.23415337]\n",
            " [-0.23413696  1.57921282  0.76743473 -0.46947439  0.54256004]\n",
            " [-0.46341769 -0.46572975  0.24196227 -1.91328024 -1.72491783]]\n",
            "parametre [[-0.56228753 -1.01283112  0.31424733 -0.90802408 -1.4123037 ]]\n",
            "parametre [[ 0.49671415]\n",
            " [-0.1382643 ]\n",
            " [ 0.64768854]\n",
            " [ 1.52302986]\n",
            " [-0.23415337]]\n",
            "parametre [[-0.23413696]]\n"
          ]
        }
      ],
      "source": [
        "for i in model.get_params():\n",
        "  print('parametre', i)"
      ]
    },
    {
      "cell_type": "markdown",
      "source": [
        "#backward"
      ],
      "metadata": {
        "id": "ogHu9lmv11j2"
      }
    },
    {
      "cell_type": "code",
      "execution_count": 42,
      "metadata": {
        "colab": {
          "base_uri": "https://localhost:8080/"
        },
        "id": "5dY-AupC5QyW",
        "outputId": "db8890e3-ec0d-412a-edce-909e2a6df2b2"
      },
      "outputs": [
        {
          "output_type": "execute_result",
          "data": {
            "text/plain": [
              "array([[ 1.57921282],\n",
              "       [ 0.76743473],\n",
              "       [-0.46947439],\n",
              "       [ 0.54256004]])"
            ]
          },
          "metadata": {},
          "execution_count": 42
        }
      ],
      "source": [
        "loss_derivee = np.random.randn(4, 1)\n",
        "loss_derivee"
      ]
    },
    {
      "cell_type": "code",
      "execution_count": 43,
      "metadata": {
        "id": "qZN4du-6oDHU"
      },
      "outputs": [],
      "source": [
        "model.backward(loss_derivee)"
      ]
    },
    {
      "cell_type": "code",
      "source": [
        "model.layers"
      ],
      "metadata": {
        "colab": {
          "base_uri": "https://localhost:8080/"
        },
        "id": "o1X0f6na3G5b",
        "outputId": "3da95970-3f33-495b-9bf8-5d41901752e5"
      },
      "execution_count": 44,
      "outputs": [
        {
          "output_type": "execute_result",
          "data": {
            "text/plain": [
              "[DenseLayer(neurons=3) avec Sigmoid,\n",
              " DenseLayer(neurons=5) avec Sigmoid,\n",
              " DenseLayer(neurons=1)]"
            ]
          },
          "metadata": {},
          "execution_count": 44
        }
      ]
    },
    {
      "cell_type": "code",
      "execution_count": 45,
      "metadata": {
        "colab": {
          "base_uri": "https://localhost:8080/"
        },
        "id": "WnMVKkAfoN6u",
        "outputId": "c8607053-59d0-4371-f3cd-11d32b027661"
      },
      "outputs": [
        {
          "output_type": "execute_result",
          "data": {
            "text/plain": [
              "[array([[ 0.09744344, -0.08618553, -0.64336403],\n",
              "        [ 0.13698274, -0.11830289, -0.93484694],\n",
              "        [-0.09526242, -0.01875007,  0.38958693]]),\n",
              " array([[ 0.04528266, -0.02121019, -0.25762364]])]"
            ]
          },
          "metadata": {},
          "execution_count": 45
        }
      ],
      "source": [
        "model.layers[0].derivee_params"
      ]
    },
    {
      "cell_type": "code",
      "execution_count": 46,
      "metadata": {
        "colab": {
          "base_uri": "https://localhost:8080/"
        },
        "id": "WBsoC8E4oVBe",
        "outputId": "4ecba78d-fbe0-4ed5-8fdb-e446c4890f10"
      },
      "outputs": [
        {
          "output_type": "execute_result",
          "data": {
            "text/plain": [
              "[array([[ 0.27708152, -0.05174736,  0.27472495,  0.73140384, -0.02763427],\n",
              "        [ 0.01624539, -0.0034003 ,  0.01676576,  0.04383442, -0.00135655],\n",
              "        [ 0.2135732 , -0.03921063,  0.21194219,  0.56124601, -0.0207439 ]]),\n",
              " array([[ 0.28624623, -0.05341832,  0.28395946,  0.7555249 , -0.02849731]])]"
            ]
          },
          "metadata": {},
          "execution_count": 46
        }
      ],
      "source": [
        "model.layers[1].derivee_params"
      ]
    },
    {
      "cell_type": "code",
      "execution_count": 47,
      "metadata": {
        "colab": {
          "base_uri": "https://localhost:8080/"
        },
        "id": "t_7Azo_bp5z6",
        "outputId": "4a713462-1c16-48cd-de6b-cf8bd3a9106d"
      },
      "outputs": [
        {
          "output_type": "stream",
          "name": "stdout",
          "text": [
            "derivee de parametre [[ 0.09744344 -0.08618553 -0.64336403]\n",
            " [ 0.13698274 -0.11830289 -0.93484694]\n",
            " [-0.09526242 -0.01875007  0.38958693]]\n",
            "derivee de parametre [[ 0.04528266 -0.02121019 -0.25762364]]\n",
            "derivee de parametre [[ 0.27708152 -0.05174736  0.27472495  0.73140384 -0.02763427]\n",
            " [ 0.01624539 -0.0034003   0.01676576  0.04383442 -0.00135655]\n",
            " [ 0.2135732  -0.03921063  0.21194219  0.56124601 -0.0207439 ]]\n",
            "derivee de parametre [[ 0.28624623 -0.05341832  0.28395946  0.7555249  -0.02849731]]\n",
            "derivee de parametre [[0.94753585]\n",
            " [0.47746922]\n",
            " [1.84484437]\n",
            " [0.70724056]\n",
            " [0.12803521]]\n",
            "derivee de parametre [[2.4197332]]\n"
          ]
        }
      ],
      "source": [
        "for i in model.get_derivee_params():\n",
        "  print('derivee de parametre', i)"
      ]
    },
    {
      "cell_type": "markdown",
      "source": [
        "# update parameter"
      ],
      "metadata": {
        "id": "B3fGWuZC1tW8"
      }
    },
    {
      "cell_type": "code",
      "source": [
        "#rappel params\n",
        "model.layers[0].params"
      ],
      "metadata": {
        "colab": {
          "base_uri": "https://localhost:8080/"
        },
        "id": "AvuMXOLS9Ciy",
        "outputId": "3c545790-2c7b-403a-aeba-e54045063c39"
      },
      "execution_count": 48,
      "outputs": [
        {
          "output_type": "execute_result",
          "data": {
            "text/plain": [
              "[array([[ 0.49671415, -0.1382643 ,  0.64768854],\n",
              "        [ 1.52302986, -0.23415337, -0.23413696],\n",
              "        [ 1.57921282,  0.76743473, -0.46947439]]),\n",
              " array([[ 0.54256004, -0.46341769, -0.46572975]])]"
            ]
          },
          "metadata": {},
          "execution_count": 48
        }
      ]
    },
    {
      "cell_type": "code",
      "execution_count": 49,
      "metadata": {
        "id": "2pD5u7J5-TdG"
      },
      "outputs": [],
      "source": [
        "model.learning_rate = 0.5\n",
        "model.update() #met a jour les parametres"
      ]
    },
    {
      "cell_type": "markdown",
      "source": [
        "on doit donc avoit une baisse de params -(+) de 0.5 * derivee params"
      ],
      "metadata": {
        "id": "BfkGHh5K9Rmj"
      }
    },
    {
      "cell_type": "code",
      "execution_count": 50,
      "metadata": {
        "colab": {
          "base_uri": "https://localhost:8080/"
        },
        "id": "kdMC5Kw7C2S_",
        "outputId": "e360238a-ac1e-40f4-e9d0-153416b673ae"
      },
      "outputs": [
        {
          "output_type": "stream",
          "name": "stdout",
          "text": [
            "derivee_params =  [array([[ 0.09744344, -0.08618553, -0.64336403],\n",
            "       [ 0.13698274, -0.11830289, -0.93484694],\n",
            "       [-0.09526242, -0.01875007,  0.38958693]]), array([[ 0.04528266, -0.02121019, -0.25762364]])]\n",
            "params =  [array([[ 0.44799244, -0.09517154,  0.96937056],\n",
            "       [ 1.45453849, -0.17500193,  0.23328652],\n",
            "       [ 1.62684403,  0.77680976, -0.66426785]]), array([[ 0.51991871, -0.4528126 , -0.33691794]])]\n"
          ]
        }
      ],
      "source": [
        "print(\"derivee_params = \" , model.layers[0].derivee_params)\n",
        "print(\"params = \" , model.layers[0].params)"
      ]
    },
    {
      "cell_type": "code",
      "execution_count": 51,
      "metadata": {
        "colab": {
          "base_uri": "https://localhost:8080/"
        },
        "id": "UQ6acYKbDO7m",
        "outputId": "2c86e4b7-c14b-4360-a21f-0e0a46f923c2"
      },
      "outputs": [
        {
          "output_type": "execute_result",
          "data": {
            "text/plain": [
              "array([[-1.61385325],\n",
              "       [-1.61382767],\n",
              "       [-1.51878309],\n",
              "       [-1.57077394]])"
            ]
          },
          "metadata": {},
          "execution_count": 51
        }
      ],
      "source": [
        "model.forward(X) #permet de faire un forward avec les nouveau params"
      ]
    },
    {
      "cell_type": "markdown",
      "source": [
        "resutructuration"
      ],
      "metadata": {
        "id": "lFRHtHRO92vi"
      }
    },
    {
      "cell_type": "code",
      "source": [
        "print(\"Y est egale a \", Y)\n",
        "print(\"X est egale a \", X)"
      ],
      "metadata": {
        "colab": {
          "base_uri": "https://localhost:8080/"
        },
        "id": "0ST4tWaL90UQ",
        "outputId": "ca8e83db-9c12-46ed-f2ed-de0b95a10355"
      },
      "execution_count": 52,
      "outputs": [
        {
          "output_type": "stream",
          "name": "stdout",
          "text": [
            "Y est egale a  [[-0.55981723]\n",
            " [-0.20036057]\n",
            " [ 0.67554591]\n",
            " [ 0.64849327]]\n",
            "X est egale a  [[ 2  3 -2]\n",
            " [ 4  5 -1]\n",
            " [-5  2  3]\n",
            " [ 0  5  4]]\n"
          ]
        }
      ]
    },
    {
      "cell_type": "code",
      "source": [
        "P = model.forward(X)\n",
        "mse = Loss()\n",
        "loss = mse.forward(P, Y)\n",
        "print(loss)\n",
        "#backward\n",
        "loss_derivee = mse.backward(prediction=P, target=Y)\n",
        "model.backward(loss_derivee)"
      ],
      "metadata": {
        "colab": {
          "base_uri": "https://localhost:8080/"
        },
        "collapsed": true,
        "id": "pHedPOLh9yIW",
        "outputId": "6d7caeec-8c22-46cc-f600-c48d62e3acfc"
      },
      "execution_count": 53,
      "outputs": [
        {
          "output_type": "stream",
          "name": "stdout",
          "text": [
            "3.2122769709023276\n"
          ]
        }
      ]
    },
    {
      "cell_type": "markdown",
      "source": [
        "#TEST DE FIT\n"
      ],
      "metadata": {
        "id": "88Y3c6az-dnI"
      }
    },
    {
      "cell_type": "code",
      "source": [
        "model = Model(layers = [Dense(neurons=3, activation=sigmoid),\n",
        "                        Dense(neurons=5, activation=sigmoid),\n",
        "       Dense(neurons=1)])\n",
        "\n",
        "mse = Loss()\n",
        "model.compile(loss=mse, learning_rate=0.01)\n",
        "h = model.fit(X, Y, epochs=10)"
      ],
      "metadata": {
        "colab": {
          "base_uri": "https://localhost:8080/"
        },
        "id": "4QjykoWSM5XB",
        "outputId": "a099ecad-8114-487d-ef91-fbfc5c800454"
      },
      "execution_count": 54,
      "outputs": [
        {
          "output_type": "stream",
          "name": "stdout",
          "text": [
            "Epoch 1 .............. loss : 0.9268855825116059\n",
            "Epoch 2 .............. loss : 0.644939902160568\n",
            "Epoch 3 .............. loss : 0.46844953430865593\n",
            "Epoch 4 .............. loss : 0.35651845829923123\n",
            "Epoch 5 .............. loss : 0.2846819980843506\n",
            "Epoch 6 .............. loss : 0.23801826317504401\n",
            "Epoch 7 .............. loss : 0.2072910559091413\n",
            "Epoch 8 .............. loss : 0.18671933121089634\n",
            "Epoch 9 .............. loss : 0.17265381388708326\n",
            "Epoch 10 .............. loss : 0.16277592569482285\n"
          ]
        }
      ]
    },
    {
      "cell_type": "markdown",
      "source": [
        "# Test du code final sur le boston dataset"
      ],
      "metadata": {
        "id": "Q0PrVgvFAJFl"
      }
    },
    {
      "cell_type": "code",
      "source": [
        "import pandas as pd\n",
        "import numpy as np\n",
        "\n",
        "data_url = \"http://lib.stat.cmu.edu/datasets/boston\"\n",
        "raw_df = pd.read_csv(data_url, sep=\"\\s+\", skiprows=22, header=None)\n",
        "data = np.hstack([raw_df.values[::2, :], raw_df.values[1::2, :2]])\n",
        "target = raw_df.values[1::2, 2]\n",
        "data = data\n",
        "target = target\n",
        "\n",
        "X = data\n",
        "Y = target.reshape((506, 1))\n",
        "\n",
        "from sklearn.model_selection import train_test_split\n",
        "X_train, X_test, y_train, y_test = train_test_split(X, Y, test_size=0.25, random_state=0)\n",
        "\n",
        "from sklearn.preprocessing import StandardScaler\n",
        "scaler = StandardScaler()\n",
        "X_train = scaler.fit_transform(X_train)\n",
        "X_test = scaler.transform(X_test)\n",
        ""
      ],
      "metadata": {
        "id": "NiK9xp19AEth"
      },
      "execution_count": 55,
      "outputs": []
    },
    {
      "cell_type": "code",
      "source": [
        "X_train.shape, y_train.shape"
      ],
      "metadata": {
        "colab": {
          "base_uri": "https://localhost:8080/"
        },
        "id": "i19n_NpOALlC",
        "outputId": "a797ff41-7cc7-4ea4-84fc-846b44fd0bfc"
      },
      "execution_count": 56,
      "outputs": [
        {
          "output_type": "execute_result",
          "data": {
            "text/plain": [
              "((379, 13), (379, 1))"
            ]
          },
          "metadata": {},
          "execution_count": 56
        }
      ]
    },
    {
      "cell_type": "code",
      "source": [
        "X_test.shape, y_test.shape"
      ],
      "metadata": {
        "colab": {
          "base_uri": "https://localhost:8080/"
        },
        "id": "_L76nLnbARKH",
        "outputId": "3845d7d9-7fbb-4d28-d311-aaa7482db970"
      },
      "execution_count": 57,
      "outputs": [
        {
          "output_type": "execute_result",
          "data": {
            "text/plain": [
              "((127, 13), (127, 1))"
            ]
          },
          "metadata": {},
          "execution_count": 57
        }
      ]
    },
    {
      "cell_type": "markdown",
      "source": [
        "#Regression linéaire simple"
      ],
      "metadata": {
        "id": "0jZpHMGNAeVE"
      }
    },
    {
      "cell_type": "code",
      "source": [
        "model = Model(layers = [Dense(neurons=1)])\n",
        "mse = Loss()\n",
        "model.compile(loss=mse, learning_rate=0.0001)\n",
        "h = model.fit(X_train, y_train, epochs=30, validation_data=(X_test, y_test))"
      ],
      "metadata": {
        "colab": {
          "base_uri": "https://localhost:8080/"
        },
        "id": "0NkwxC3yITr7",
        "outputId": "ea929797-b9df-4ab1-a9fa-d0bf1fe47b4b"
      },
      "execution_count": 58,
      "outputs": [
        {
          "output_type": "stream",
          "name": "stdout",
          "text": [
            "Epoch 1 .............. loss : 712.1743316753176  ....val_loss : 671.7547143671588\n",
            "Epoch 2 .............. loss : 576.9266828543414  ....val_loss : 562.1281647258804\n",
            "Epoch 3 .............. loss : 474.8911197919163  ....val_loss : 484.124620632117\n",
            "Epoch 4 .............. loss : 406.0676424880424  ....val_loss : 437.7440820858687\n",
            "Epoch 5 .............. loss : 370.45625094271946  ....val_loss : 422.9865490871356\n",
            "Epoch 6 .............. loss : 368.05694515594774  ....val_loss : 439.8520216359175\n",
            "Epoch 7 .............. loss : 398.869725127727  ....val_loss : 488.34049973221454\n",
            "Epoch 8 .............. loss : 462.89459085805737  ....val_loss : 568.4519833760269\n",
            "Epoch 9 .............. loss : 560.1315423469389  ....val_loss : 680.1864725673538\n",
            "Epoch 10 .............. loss : 690.5805795943714  ....val_loss : 823.5439673061961\n",
            "Epoch 11 .............. loss : 854.2417026003551  ....val_loss : 998.5244675925536\n",
            "Epoch 12 .............. loss : 1051.11491136489  ....val_loss : 1205.127973426426\n",
            "Epoch 13 .............. loss : 1281.200205887976  ....val_loss : 1443.354484807814\n",
            "Epoch 14 .............. loss : 1544.497586169613  ....val_loss : 1713.204001736717\n",
            "Epoch 15 .............. loss : 1841.007052209801  ....val_loss : 2014.676524213135\n",
            "Epoch 16 .............. loss : 2170.72860400854  ....val_loss : 2347.7720522370673\n",
            "Epoch 17 .............. loss : 2533.6622415658308  ....val_loss : 2712.4905858085153\n",
            "Epoch 18 .............. loss : 2929.807964881672  ....val_loss : 3108.832124927479\n",
            "Epoch 19 .............. loss : 3359.1657739560646  ....val_loss : 3536.7966695939576\n",
            "Epoch 20 .............. loss : 3821.7356687890083  ....val_loss : 3996.3842198079524\n",
            "Epoch 21 .............. loss : 4317.517649380503  ....val_loss : 4487.594775569461\n",
            "Epoch 22 .............. loss : 4846.511715730549  ....val_loss : 5010.428336878485\n",
            "Epoch 23 .............. loss : 5408.717867839147  ....val_loss : 5564.884903735022\n",
            "Epoch 24 .............. loss : 6004.136105706295  ....val_loss : 6150.964476139078\n",
            "Epoch 25 .............. loss : 6632.766429331994  ....val_loss : 6768.667054090646\n",
            "Epoch 26 .............. loss : 7294.608838716245  ....val_loss : 7417.99263758973\n",
            "Epoch 27 .............. loss : 7989.663333859046  ....val_loss : 8098.941226636331\n",
            "Epoch 28 .............. loss : 8717.929914760398  ....val_loss : 8811.512821230444\n",
            "Epoch 29 .............. loss : 9479.408581420304  ....val_loss : 9555.707421372075\n",
            "Epoch 30 .............. loss : 10274.099333838758  ....val_loss : 10331.52502706122\n"
          ]
        }
      ]
    },
    {
      "cell_type": "code",
      "source": [
        "#\n",
        "\n",
        "import matplotlib.pyplot as plt\n",
        "\n",
        "def plot_learning_curve(history):\n",
        "\n",
        "\n",
        "  plt.plot(list(range(len(history['loss']))), history['loss'])\n",
        "  plt.plot(list(range(len(history['val_loss']))), history['val_loss'])\n",
        "  plt.xlabel('Epochs')\n",
        "  plt.ylabel(\"Loss\")\n",
        "  plt.title(\"Learning Curve\")\n",
        "  plt.show()\n",
        "\n",
        "\n",
        "\n",
        "\n"
      ],
      "metadata": {
        "collapsed": true,
        "id": "SLhHNNqXBO5r"
      },
      "execution_count": 59,
      "outputs": []
    },
    {
      "cell_type": "code",
      "source": [
        "plot_learning_curve(h)"
      ],
      "metadata": {
        "colab": {
          "base_uri": "https://localhost:8080/",
          "height": 492
        },
        "id": "pNjIKhVjI72C",
        "outputId": "383feaeb-376a-4885-ca86-0052d72df719"
      },
      "execution_count": 269,
      "outputs": [
        {
          "output_type": "display_data",
          "data": {
            "text/plain": [
              "<Figure size 640x480 with 1 Axes>"
            ],
            "image/png": "[encoded data removed]"
          },
          "metadata": {}
        }
      ]
    },
    {
      "cell_type": "markdown",
      "source": [
        "#Réseau de neurones simple"
      ],
      "metadata": {
        "id": "jSbN7s3hIV_N"
      }
    },
    {
      "cell_type": "code",
      "source": [
        "sigmoid = Sigmoid()\n",
        "model =  Model(layers = [Dense(neurons=3, activation=sigmoid),\n",
        "       Dense(neurons=1)])\n",
        "mse = Loss()\n",
        "model.compile(loss=mse, learning_rate=0.0001)"
      ],
      "metadata": {
        "id": "F4hDxh2xAeDM"
      },
      "execution_count": 60,
      "outputs": []
    },
    {
      "cell_type": "code",
      "source": [
        "h = model.fit(X_train, y_train, epochs=150, validation_data=(X_test, y_test))"
      ],
      "metadata": {
        "colab": {
          "base_uri": "https://localhost:8080/"
        },
        "id": "Oc0Ym7mHCCO7",
        "outputId": "0530f175-8266-4e0a-ef39-ac2ec8496138"
      },
      "execution_count": 61,
      "outputs": [
        {
          "output_type": "stream",
          "name": "stdout",
          "text": [
            "Epoch 1 .............. loss : 507.9248956497336  ....val_loss : 492.311693850643\n",
            "Epoch 2 .............. loss : 385.89495140692316  ....val_loss : 373.51017069117904\n",
            "Epoch 3 .............. loss : 291.17619082017  ....val_loss : 281.7732417488408\n",
            "Epoch 4 .............. loss : 219.75979260483584  ....val_loss : 213.27980491645158\n",
            "Epoch 5 .............. loss : 168.45961161605925  ....val_loss : 164.89930377159283\n",
            "Epoch 6 .............. loss : 132.08416055931372  ....val_loss : 131.23235818984935\n",
            "Epoch 7 .............. loss : 106.37686490362891  ....val_loss : 107.68580089711702\n",
            "Epoch 8 .............. loss : 88.20382268012803  ....val_loss : 91.17465167251936\n",
            "Epoch 9 .............. loss : 75.3310635935989  ....val_loss : 79.86033890727212\n",
            "Epoch 10 .............. loss : 66.19183019020247  ....val_loss : 72.3635639728097\n",
            "Epoch 11 .............. loss : 59.631502712403254  ....val_loss : 67.45066259302294\n",
            "Epoch 12 .............. loss : 54.86506266243943  ....val_loss : 64.19452812522401\n",
            "Epoch 13 .............. loss : 51.39897439473629  ....val_loss : 61.98289241696515\n",
            "Epoch 14 .............. loss : 48.88322330037208  ....val_loss : 60.42764607620389\n",
            "Epoch 15 .............. loss : 47.0472959649447  ....val_loss : 59.28493721751025\n",
            "Epoch 16 .............. loss : 45.69040706710793  ....val_loss : 58.402022235197435\n",
            "Epoch 17 .............. loss : 44.66973205588522  ....val_loss : 57.683877189907676\n",
            "Epoch 18 .............. loss : 43.88581096426192  ....val_loss : 57.072158495214104\n",
            "Epoch 19 .............. loss : 43.27086576422308  ....val_loss : 56.53145547861849\n",
            "Epoch 20 .............. loss : 42.77971094185645  ....val_loss : 56.03993171508642\n",
            "Epoch 21 .............. loss : 42.38216708984503  ....val_loss : 55.58298805219225\n",
            "Epoch 22 .............. loss : 42.057224167449405  ....val_loss : 55.14945124492186\n",
            "Epoch 23 .............. loss : 41.78926750402195  ....val_loss : 54.73005606081572\n",
            "Epoch 24 .............. loss : 41.56593871803749  ....val_loss : 54.31774862648784\n",
            "Epoch 25 .............. loss : 41.377079526252246  ....val_loss : 53.90884946759456\n",
            "Epoch 26 .............. loss : 41.214331912649364  ....val_loss : 53.50385642437032\n",
            "Epoch 27 .............. loss : 41.07102377748263  ....val_loss : 53.10704259045109\n",
            "Epoch 28 .............. loss : 40.94210537519956  ....val_loss : 52.724878619059616\n",
            "Epoch 29 .............. loss : 40.82404627207886  ....val_loss : 52.3640459779124\n",
            "Epoch 30 .............. loss : 40.71467133748012  ....val_loss : 52.02989671814513\n",
            "Epoch 31 .............. loss : 40.61293872333437  ....val_loss : 51.72576552347716\n",
            "Epoch 32 .............. loss : 40.518677750331356  ....val_loss : 51.4530326199956\n",
            "Epoch 33 .............. loss : 40.43231436804492  ....val_loss : 51.21158158116738\n",
            "Epoch 34 .............. loss : 40.35460986711846  ....val_loss : 51.00030420932906\n",
            "Epoch 35 .............. loss : 40.28642533183208  ....val_loss : 50.817461640230654\n",
            "Epoch 36 .............. loss : 40.22851326738186  ....val_loss : 50.660890411935874\n",
            "Epoch 37 .............. loss : 40.18134210707968  ....val_loss : 50.52814323451572\n",
            "Epoch 38 .............. loss : 40.144974091487974  ....val_loss : 50.41664448887891\n",
            "Epoch 39 .............. loss : 40.11902228228939  ....val_loss : 50.32386916608311\n",
            "Epoch 40 .............. loss : 40.102695831778064  ....val_loss : 50.24749771218892\n",
            "Epoch 41 .............. loss : 40.09491393200295  ....val_loss : 50.18549666534703\n",
            "Epoch 42 .............. loss : 40.09444913770857  ....val_loss : 50.136111877693246\n",
            "Epoch 43 .............. loss : 40.1000609996397  ....val_loss : 50.09780179736049\n",
            "Epoch 44 .............. loss : 40.11059558042304  ....val_loss : 50.0691577787454\n",
            "Epoch 45 .............. loss : 40.125043442867636  ....val_loss : 50.048852136233386\n",
            "Epoch 46 .............. loss : 40.142560568292325  ....val_loss : 50.0356323041044\n",
            "Epoch 47 .............. loss : 40.16246229040811  ....val_loss : 50.02835513329822\n",
            "Epoch 48 .............. loss : 40.18420152303327  ....val_loss : 50.02603995191779\n",
            "Epoch 49 .............. loss : 40.20734113335652  ....val_loss : 50.02791630697345\n",
            "Epoch 50 .............. loss : 40.23152750995058  ....val_loss : 50.03344937185345\n",
            "Epoch 51 .............. loss : 40.25646918201403  ....val_loss : 50.04233683177339\n",
            "Epoch 52 .............. loss : 40.281921582282564  ....val_loss : 50.054480401571674\n",
            "Epoch 53 .............. loss : 40.30767720202207  ....val_loss : 50.069940449478686\n",
            "Epoch 54 .............. loss : 40.33355954114813  ....val_loss : 50.08888347772243\n",
            "Epoch 55 .............. loss : 40.35941918274834  ....val_loss : 50.11153074372604\n",
            "Epoch 56 .............. loss : 40.38513068353332  ....val_loss : 50.13811359976403\n",
            "Epoch 57 .............. loss : 40.41058948264543  ....val_loss : 50.16883832033585\n",
            "Epoch 58 .............. loss : 40.435708515150004  ....val_loss : 50.20386091533177\n",
            "Epoch 59 .............. loss : 40.46041459862972  ....val_loss : 50.24327092968674\n",
            "Epoch 60 .............. loss : 40.48464492608602  ....val_loss : 50.28708248251587\n",
            "Epoch 61 .............. loss : 40.508344150872624  ....val_loss : 50.33523064085543\n",
            "Epoch 62 .............. loss : 40.53146259363607  ....val_loss : 50.38757145056466\n",
            "Epoch 63 .............. loss : 40.55395603565454  ....val_loss : 50.44388436817143\n",
            "Epoch 64 .............. loss : 40.57578738698816  ....val_loss : 50.50387630203238\n",
            "Epoch 65 .............. loss : 40.59693024238379  ....val_loss : 50.56718687549166\n",
            "Epoch 66 .............. loss : 40.61737399356962  ....val_loss : 50.6333948067215\n",
            "Epoch 67 .............. loss : 40.63712980602966  ....val_loss : 50.702025433177184\n",
            "Epoch 68 .............. loss : 40.65623646101746  ....val_loss : 50.77255939948401\n",
            "Epoch 69 .............. loss : 40.674764884588846  ....val_loss : 50.84444241275351\n",
            "Epoch 70 .............. loss : 40.69282020035226  ....val_loss : 50.91709580808478\n",
            "Epoch 71 .............. loss : 40.71054038966004  ....val_loss : 50.98992752627392\n",
            "Epoch 72 .............. loss : 40.72809111502473  ....val_loss : 51.062343041234314\n",
            "Epoch 73 .............. loss : 40.74565689448225  ....val_loss : 51.13375581498961\n",
            "Epoch 74 .............. loss : 40.76342948438542  ....val_loss : 51.20359699829011\n",
            "Epoch 75 .............. loss : 40.78159487992515  ....val_loss : 51.271324300315236\n",
            "Epoch 76 .............. loss : 40.800320631475635  ....val_loss : 51.33643016929486\n",
            "Epoch 77 .............. loss : 40.81974511763001  ....val_loss : 51.39844960145835\n",
            "Epoch 78 .............. loss : 40.83997002631903  ....val_loss : 51.456967980916\n",
            "Epoch 79 .............. loss : 40.86105668299264  ....val_loss : 51.51162931558723\n",
            "Epoch 80 .............. loss : 40.883026195043534  ....val_loss : 51.56214506051148\n",
            "Epoch 81 .............. loss : 40.905862817066684  ....val_loss : 51.60830341704225\n",
            "Epoch 82 .............. loss : 40.92951959030611  ....val_loss : 51.64997859545935\n",
            "Epoch 83 .............. loss : 40.95392520217016  ....val_loss : 51.68713908776122\n",
            "Epoch 84 .............. loss : 40.97899110968672  ....val_loss : 51.71985360427468\n",
            "Epoch 85 .............. loss : 41.004618196814775  ....val_loss : 51.74829309356426\n",
            "Epoch 86 .............. loss : 41.03070250640697  ....val_loss : 51.77272730715019\n",
            "Epoch 87 .............. loss : 41.05713983817976  ....val_loss : 51.79351477885817\n",
            "Epoch 88 .............. loss : 41.083829197047706  ....val_loss : 51.811085883104944\n",
            "Epoch 89 .............. loss : 41.11067520042338  ....val_loss : 51.82591972846423\n",
            "Epoch 90 .............. loss : 41.137589615388  ....val_loss : 51.83851682400832\n",
            "Epoch 91 .............. loss : 41.16449221266044  ....val_loss : 51.84937043278117\n",
            "Epoch 92 .............. loss : 41.19131111134402  ....val_loss : 51.85894000440909\n",
            "Epoch 93 .............. loss : 41.21798276122142  ....val_loss : 51.86762986845069\n",
            "Epoch 94 .............. loss : 41.24445167833364  ....val_loss : 51.87577547453298\n",
            "Epoch 95 .............. loss : 41.270670020921045  ....val_loss : 51.883638097440034\n",
            "Epoch 96 .............. loss : 41.29659706936285  ....val_loss : 51.89140744155955\n",
            "Epoch 97 .............. loss : 41.32219865609669  ....val_loss : 51.8992103545786\n",
            "Epoch 98 .............. loss : 41.34744657891837  ....val_loss : 51.90712316183027\n",
            "Epoch 99 .............. loss : 41.372318022286294  ....val_loss : 51.91518504474608\n",
            "Epoch 100 .............. loss : 41.3967950049552  ....val_loss : 51.923410315079025\n",
            "Epoch 101 .............. loss : 41.42086386733959  ....val_loss : 51.931798172916814\n",
            "Epoch 102 .............. loss : 41.44451480772973  ....val_loss : 51.9403393472614\n",
            "Epoch 103 .............. loss : 41.46774147257094  ....val_loss : 51.949019715512335\n",
            "Epoch 104 .............. loss : 41.49054060261401  ....val_loss : 51.95782147660231\n",
            "Epoch 105 .............. loss : 41.51291173437511  ....val_loss : 51.96672268717468\n",
            "Epoch 106 .............. loss : 41.534856955764546  ....val_loss : 51.975695995146154\n",
            "Epoch 107 .............. loss : 41.55638071672738  ....val_loss : 51.98470728382701\n",
            "Epoch 108 .............. loss : 41.577489700735654  ....val_loss : 51.99371474079561\n",
            "Epoch 109 .............. loss : 41.59819277068812  ....val_loss : 52.00266864648595\n",
            "Epoch 110 .............. loss : 41.61850101171346  ....val_loss : 52.01151197807518\n",
            "Epoch 111 .............. loss : 41.63842790049806  ....val_loss : 52.02018176723622\n",
            "Epoch 112 .............. loss : 41.657989631471196  ....val_loss : 52.028611043695854\n",
            "Epoch 113 .............. loss : 41.67720561889585  ....val_loss : 52.036731138378336\n",
            "Epoch 114 .............. loss : 41.696099165466514  ....val_loss : 52.04447410260184\n",
            "Epoch 115 .............. loss : 41.7146982398958  ....val_loss : 52.05177501348753\n",
            "Epoch 116 .............. loss : 41.733036241059864  ....val_loss : 52.058573970782284\n",
            "Epoch 117 .............. loss : 41.75115255515565  ....val_loss : 52.06481763854988\n",
            "Epoch 118 .............. loss : 41.7690926538302  ....val_loss : 52.070460240441456\n",
            "Epoch 119 .............. loss : 41.78690745973005  ....val_loss : 52.07546397494246\n",
            "Epoch 120 .............. loss : 41.80465174462999  ....val_loss : 52.07979887343239\n",
            "Epoch 121 .............. loss : 41.82238143680117  ....val_loss : 52.083442175528454\n",
            "Epoch 122 .............. loss : 41.84014989123746  ....val_loss : 52.08637733907198\n",
            "Epoch 123 .............. loss : 41.85800338742055  ....val_loss : 52.08859283200189\n",
            "Epoch 124 .............. loss : 41.87597631405203  ....val_loss : 52.09008086641048\n",
            "Epoch 125 .............. loss : 41.89408662365801  ....val_loss : 52.09083622902622\n",
            "Epoch 126 .............. loss : 41.912332152035326  ....val_loss : 52.09085533764709\n",
            "Epoch 127 .............. loss : 41.93068828866181  ....val_loss : 52.09013561330311\n",
            "Epoch 128 .............. loss : 41.94910728018474  ....val_loss : 52.08867520960489\n",
            "Epoch 129 .............. loss : 41.96751920175877  ....val_loss : 52.086473091727086\n",
            "Epoch 130 .............. loss : 41.985834399713625  ....val_loss : 52.083529415292396\n",
            "Epoch 131 .............. loss : 42.003947041409106  ....val_loss : 52.079846125525044\n",
            "Epoch 132 .............. loss : 42.02173932785389  ....val_loss : 52.07542768190237\n",
            "Epoch 133 .............. loss : 42.03908592970872  ....val_loss : 52.07028181259525\n",
            "Epoch 134 .............. loss : 42.05585827679435  ....val_loss : 52.064420213418515\n",
            "Epoch 135 .............. loss : 42.071928436048644  ....val_loss : 52.05785912381381\n",
            "Epoch 136 .............. loss : 42.0871724252337  ....val_loss : 52.05061973347634\n",
            "Epoch 137 .............. loss : 42.10147290908293  ....val_loss : 52.042728394215956\n",
            "Epoch 138 .............. loss : 42.11472129965697  ....val_loss : 52.03421663017993\n",
            "Epoch 139 .............. loss : 42.1268193302131  ....val_loss : 52.02512095439936\n",
            "Epoch 140 .............. loss : 42.13768019427946  ....val_loss : 52.015482510401306\n",
            "Epoch 141 .............. loss : 42.147229344262556  ....val_loss : 52.00534656459878\n",
            "Epoch 142 .............. loss : 42.1554050331167  ....val_loss : 51.99476187892978\n",
            "Epoch 143 .............. loss : 42.1621586642662  ....val_loss : 51.98377999447271\n",
            "Epoch 144 .............. loss : 42.167454993911726  ....val_loss : 51.97245445621539\n",
            "Epoch 145 .............. loss : 42.171272209625734  ....val_loss : 51.960840007390054\n",
            "Epoch 146 .............. loss : 42.17360189210402  ....val_loss : 51.94899177926926\n",
            "Epoch 147 .............. loss : 42.17444885444739  ....val_loss : 51.93696449937967\n",
            "Epoch 148 .............. loss : 42.173830845959635  ....val_loss : 51.92481173795804\n",
            "Epoch 149 .............. loss : 42.17177810510979  ....val_loss : 51.91258520927922\n",
            "Epoch 150 .............. loss : 42.168332748505534  ....val_loss : 51.900334141313245\n"
          ]
        }
      ]
    },
    {
      "cell_type": "code",
      "source": [
        "plot_learning_curve(h)"
      ],
      "metadata": {
        "colab": {
          "base_uri": "https://localhost:8080/",
          "height": 492
        },
        "id": "J9bNex4jJDVA",
        "outputId": "432e5226-5c88-447f-e952-571c38b770ae"
      },
      "execution_count": 67,
      "outputs": [
        {
          "output_type": "display_data",
          "data": {
            "text/plain": [
              "<Figure size 640x480 with 1 Axes>"
            ],
            "image/png": "[encoded data removed]"
          },
          "metadata": {}
        }
      ]
    },
    {
      "cell_type": "markdown",
      "source": [
        "# Deep Neural Network"
      ],
      "metadata": {
        "id": "AWmjux3iJFXw"
      }
    },
    {
      "cell_type": "code",
      "source": [
        "sigmoid = Sigmoid()\n",
        "model = Model([ Dense(neurons=13, activation=sigmoid),\n",
        "               Dense(neurons=10, activation=sigmoid),\n",
        "               Dense(neurons=5, activation=sigmoid),\n",
        "               Dense(neurons=1),\n",
        "\n",
        "                ])"
      ],
      "metadata": {
        "id": "VUwk80ujJHyw"
      },
      "execution_count": 63,
      "outputs": []
    },
    {
      "cell_type": "code",
      "source": [
        "model"
      ],
      "metadata": {
        "colab": {
          "base_uri": "https://localhost:8080/"
        },
        "id": "8m_9nBx_JKb_",
        "outputId": "297bfac4-c230-44cb-d9f3-de1edd819076"
      },
      "execution_count": 64,
      "outputs": [
        {
          "output_type": "execute_result",
          "data": {
            "text/plain": [
              "Layers ................. \n",
              " DenseLayer(neurons=13) avec Sigmoid \n",
              " DenseLayer(neurons=10) avec Sigmoid \n",
              " DenseLayer(neurons=5) avec Sigmoid \n",
              " DenseLayer(neurons=1)"
            ]
          },
          "metadata": {},
          "execution_count": 64
        }
      ]
    },
    {
      "cell_type": "code",
      "source": [
        "mse = Loss()\n",
        "model.compile(loss=mse, learning_rate=0.0001)\n",
        "h = model.fit(X_train, y_train, epochs=150, validation_data=(X_test, y_test))"
      ],
      "metadata": {
        "colab": {
          "base_uri": "https://localhost:8080/"
        },
        "id": "1N7Zo6i4JPbz",
        "outputId": "f1fd2bf4-fec2-4cd6-ee63-3cde2cb5d024"
      },
      "execution_count": 66,
      "outputs": [
        {
          "output_type": "stream",
          "name": "stderr",
          "text": [
            "<ipython-input-13-d2d29957a7c7>:7: RuntimeWarning: overflow encountered in exp\n",
            "  return 1 / (1 + np.exp(-1 * self.inputs))\n"
          ]
        },
        {
          "output_type": "stream",
          "name": "stdout",
          "text": [
            "Epoch 1 .............. loss : 85.80773718977571  ....val_loss : 81.87937780946658\n",
            "Epoch 2 .............. loss : 85.77955529545885  ....val_loss : 81.85913799596521\n",
            "Epoch 3 .............. loss : 85.75204145868435  ....val_loss : 81.83934911142985\n",
            "Epoch 4 .............. loss : 85.7252012247303  ....val_loss : 81.82001417282846\n",
            "Epoch 5 .............. loss : 85.69903943490804  ....val_loss : 81.80113534581632\n",
            "Epoch 6 .............. loss : 85.67356000398715  ....val_loss : 81.78271738789957\n",
            "Epoch 7 .............. loss : 85.64876549689971  ....val_loss : 81.76476512500399\n",
            "Epoch 8 .............. loss : 85.62465689142424  ....val_loss : 81.74727451739477\n",
            "Epoch 9 .............. loss : 85.60123765659418  ....val_loss : 81.73024605074885\n",
            "Epoch 10 .............. loss : 85.57849312502017  ....val_loss : 81.71367848923887\n",
            "Epoch 11 .............. loss : 85.55637965863309  ....val_loss : 81.69756910610937\n",
            "Epoch 12 .............. loss : 85.53495942274186  ....val_loss : 81.68191444243354\n",
            "Epoch 13 .............. loss : 85.51422838565357  ....val_loss : 81.6667113622723\n",
            "Epoch 14 .............. loss : 85.49416411227644  ....val_loss : 81.65195520033608\n",
            "Epoch 15 .............. loss : 85.4747547597611  ....val_loss : 81.63763957056189\n",
            "Epoch 16 .............. loss : 85.45598800623873  ....val_loss : 81.62375670735729\n",
            "Epoch 17 .............. loss : 85.43784942229857  ....val_loss : 81.61029748458613\n",
            "Epoch 18 .............. loss : 85.42032232890742  ....val_loss : 81.59725139844943\n",
            "Epoch 19 .............. loss : 85.40338778842309  ....val_loss : 81.58460656194484\n",
            "Epoch 20 .............. loss : 85.38702462103936  ....val_loss : 81.57234971467132\n",
            "Epoch 21 .............. loss : 85.37120944391025  ....val_loss : 81.56046624794574\n",
            "Epoch 22 .............. loss : 85.35591673379177  ....val_loss : 81.54894024482849\n",
            "Epoch 23 .............. loss : 85.34111891270658  ....val_loss : 81.5377545343786\n",
            "Epoch 24 .............. loss : 85.32678645533625  ....val_loss : 81.52689075915909\n",
            "Epoch 25 .............. loss : 85.31288801637906  ....val_loss : 81.51632945472225\n",
            "Epoch 26 .............. loss : 85.29939057601298  ....val_loss : 81.50605013956113\n",
            "Epoch 27 .............. loss : 85.28625960261492  ....val_loss : 81.49603141382366\n",
            "Epoch 28 .............. loss : 85.27345923731518  ....val_loss : 81.48625106501501\n",
            "Epoch 29 .............. loss : 85.26095252853118  ....val_loss : 81.47668617911795\n",
            "Epoch 30 .............. loss : 85.24870183054448  ....val_loss : 81.46731325675634\n",
            "Epoch 31 .............. loss : 85.2366695364256  ....val_loss : 81.45810833857549\n",
            "Epoch 32 .............. loss : 85.22481734907869  ....val_loss : 81.44904714967241\n",
            "Epoch 33 .............. loss : 85.2131025536866  ....val_loss : 81.44010519356227\n",
            "Epoch 34 .............. loss : 85.20148324690498  ....val_loss : 81.43125768143392\n",
            "Epoch 35 .............. loss : 85.18992025247385  ....val_loss : 81.42247972110783\n",
            "Epoch 36 .............. loss : 85.1783741990531  ....val_loss : 81.41374654736187\n",
            "Epoch 37 .............. loss : 85.16680552359793  ....val_loss : 81.405033575577\n",
            "Epoch 38 .............. loss : 85.15517490717467  ....val_loss : 81.39631645109385\n",
            "Epoch 39 .............. loss : 85.14344350756227  ....val_loss : 81.3875711114501\n",
            "Epoch 40 .............. loss : 85.13157309948501  ....val_loss : 81.37877384713869\n",
            "Epoch 41 .............. loss : 85.1195261802303  ....val_loss : 81.36990135554394\n",
            "Epoch 42 .............. loss : 85.10726605669957  ....val_loss : 81.3609307868814\n",
            "Epoch 43 .............. loss : 85.094756918057  ....val_loss : 81.35183978218458\n",
            "Epoch 44 .............. loss : 85.08196389537265  ....val_loss : 81.34260650375617\n",
            "Epoch 45 .............. loss : 85.0688531091294  ....val_loss : 81.33320965865515\n",
            "Epoch 46 .............. loss : 85.05539170541553  ....val_loss : 81.32362851619555\n",
            "Epoch 47 .............. loss : 85.04154788165897  ....val_loss : 81.31384296266475\n",
            "Epoch 48 .............. loss : 85.02729090277828  ....val_loss : 81.30383971056273\n",
            "Epoch 49 .............. loss : 85.01259110862483  ....val_loss : 81.29372731329237\n",
            "Epoch 50 .............. loss : 84.99741991356032  ....val_loss : 81.283243826103\n",
            "Epoch 51 .............. loss : 84.98174979896446  ....val_loss : 81.27245970643067\n",
            "Epoch 52 .............. loss : 84.9655542993962  ....val_loss : 81.26137849655854\n",
            "Epoch 53 .............. loss : 84.9488079830401  ....val_loss : 81.24998357885697\n",
            "Epoch 54 .............. loss : 84.93148642694597  ....val_loss : 81.23825876603529\n",
            "Epoch 55 .............. loss : 84.91356618738749  ....val_loss : 81.22618843182948\n",
            "Epoch 56 .............. loss : 84.89502476532554  ....val_loss : 81.21375752478782\n",
            "Epoch 57 .............. loss : 84.87584056614934  ....val_loss : 81.20095162961383\n",
            "Epoch 58 .............. loss : 84.85599285056114  ....val_loss : 81.18775718168627\n",
            "Epoch 59 .............. loss : 84.83546166658314  ....val_loss : 81.17416215288644\n",
            "Epoch 60 .............. loss : 84.81422773574717  ....val_loss : 81.16015795721447\n",
            "Epoch 61 .............. loss : 84.79227226982185  ....val_loss : 81.1457423972542\n",
            "Epoch 62 .............. loss : 84.76957701993247  ....val_loss : 81.13091264555021\n",
            "Epoch 63 .............. loss : 84.74612534155825  ....val_loss : 81.11563798155767\n",
            "Epoch 64 .............. loss : 84.72190190255195  ....val_loss : 81.09987957820421\n",
            "Epoch 65 .............. loss : 84.69689037918553  ....val_loss : 81.08362894882434\n",
            "Epoch 66 .............. loss : 84.67107412041655  ....val_loss : 81.06689288568242\n",
            "Epoch 67 .............. loss : 84.64443691035589  ....val_loss : 81.04977305495903\n",
            "Epoch 68 .............. loss : 84.6169627273055  ....val_loss : 81.03246779945371\n",
            "Epoch 69 .............. loss : 84.58863540620605  ....val_loss : 81.01434221826261\n",
            "Epoch 70 .............. loss : 84.55943834536245  ....val_loss : 80.99558899863115\n",
            "Epoch 71 .............. loss : 84.52935419838052  ....val_loss : 80.97628868632007\n",
            "Epoch 72 .............. loss : 84.49836451066858  ....val_loss : 80.9564346346408\n",
            "Epoch 73 .............. loss : 84.46644927512638  ....val_loss : 80.93601318673835\n",
            "Epoch 74 .............. loss : 84.43358638415566  ....val_loss : 80.91500883230086\n",
            "Epoch 75 .............. loss : 84.39975095213191  ....val_loss : 80.89340399598012\n",
            "Epoch 76 .............. loss : 84.36491447699714  ....val_loss : 80.87117843848687\n",
            "Epoch 77 .............. loss : 84.32904380242239  ....val_loss : 80.8483085031229\n",
            "Epoch 78 .............. loss : 84.29209983298196  ....val_loss : 80.82476618598194\n",
            "Epoch 79 .............. loss : 84.2540359436615  ....val_loss : 80.80051798866961\n",
            "Epoch 80 .............. loss : 84.21479601134764  ....val_loss : 80.77552350206386\n",
            "Epoch 81 .............. loss : 84.17431197919535  ....val_loss : 80.74973365755052\n",
            "Epoch 82 .............. loss : 84.13250084435987  ....val_loss : 80.7230885674765\n",
            "Epoch 83 .............. loss : 84.08926093488576  ....val_loss : 80.69551485881206\n",
            "Epoch 84 .............. loss : 84.04446759225007  ....val_loss : 80.66692238276644\n",
            "Epoch 85 .............. loss : 83.99803672102446  ....val_loss : 80.63720016205603\n",
            "Epoch 86 .............. loss : 83.94963872856455  ....val_loss : 80.60621241001415\n",
            "Epoch 87 .............. loss : 83.89910843473425  ....val_loss : 80.57378913873764\n",
            "Epoch 88 .............. loss : 83.84615666338097  ....val_loss : 80.5397221389864\n",
            "Epoch 89 .............. loss : 83.79042631001927  ....val_loss : 80.50375453583705\n",
            "Epoch 90 .............. loss : 83.7314770085891  ....val_loss : 80.46556964670113\n",
            "Epoch 91 .............. loss : 83.6687705041019  ....val_loss : 80.42477754722809\n",
            "Epoch 92 .............. loss : 83.60164475690163  ....val_loss : 80.38089909789213\n",
            "Epoch 93 .............. loss : 83.5292603664373  ....val_loss : 80.33334699490996\n",
            "Epoch 94 .............. loss : 83.45067840960908  ....val_loss : 80.28140315950682\n",
            "Epoch 95 .............. loss : 83.3654276894443  ....val_loss : 80.22419592943807\n",
            "Epoch 96 .............. loss : 83.27070004038477  ....val_loss : 80.16069412030107\n",
            "Epoch 97 .............. loss : 83.16499452186406  ....val_loss : 80.0896088899841\n",
            "Epoch 98 .............. loss : 83.04641448709381  ....val_loss : 80.00942273969866\n",
            "Epoch 99 .............. loss : 82.91248618963817  ....val_loss : 79.91836178313862\n",
            "Epoch 100 .............. loss : 82.76032218616928  ....val_loss : 79.8143726925323\n",
            "Epoch 101 .............. loss : 82.58663635437557  ....val_loss : 79.69512424023627\n",
            "Epoch 102 .............. loss : 82.38778168968412  ....val_loss : 79.55803648117869\n",
            "Epoch 103 .............. loss : 82.15984079804873  ....val_loss : 79.40034871844313\n",
            "Epoch 104 .............. loss : 81.89878649314875  ....val_loss : 79.21923804811576\n",
            "Epoch 105 .............. loss : 81.60072519877279  ....val_loss : 79.0119970505991\n",
            "Epoch 106 .............. loss : 81.26222471984592  ....val_loss : 78.77627084931349\n",
            "Epoch 107 .............. loss : 80.88070833036346  ....val_loss : 78.51033934906947\n",
            "Epoch 108 .............. loss : 80.45487047507828  ....val_loss : 78.21341126709713\n",
            "Epoch 109 .............. loss : 79.9846528751696  ....val_loss : 77.88587751313491\n",
            "Epoch 110 .............. loss : 79.47274941825049  ....val_loss : 77.52939438384634\n",
            "Epoch 111 .............. loss : 78.92311078033802  ....val_loss : 77.14705425217733\n",
            "Epoch 112 .............. loss : 78.34141222916637  ....val_loss : 76.74304423426324\n",
            "Epoch 113 .............. loss : 77.73301473006664  ....val_loss : 76.32233133961114\n",
            "Epoch 114 .............. loss : 77.1062101747801  ....val_loss : 75.88909865197171\n",
            "Epoch 115 .............. loss : 76.46896265510468  ....val_loss : 75.44978055488829\n",
            "Epoch 116 .............. loss : 75.82788056950962  ....val_loss : 75.00911179694992\n",
            "Epoch 117 .............. loss : 75.1885748030063  ....val_loss : 74.57113731934541\n",
            "Epoch 118 .............. loss : 74.55548199115756  ....val_loss : 74.13912054657955\n",
            "Epoch 119 .............. loss : 73.931799847253  ....val_loss : 73.6987600150539\n",
            "Epoch 120 .............. loss : 73.31946734761429  ....val_loss : 73.28340863301383\n",
            "Epoch 121 .............. loss : 72.71936443020158  ....val_loss : 72.8676803610481\n",
            "Epoch 122 .............. loss : 72.13246628383408  ....val_loss : 72.47534820002492\n",
            "Epoch 123 .............. loss : 71.56129957965383  ....val_loss : 72.0955668808647\n",
            "Epoch 124 .............. loss : 71.00778629509894  ....val_loss : 71.7278229147218\n",
            "Epoch 125 .............. loss : 70.47341524504259  ....val_loss : 71.36975837630463\n",
            "Epoch 126 .............. loss : 69.95501610543629  ....val_loss : 71.03359632905007\n",
            "Epoch 127 .............. loss : 69.45470629263271  ....val_loss : 70.71167948106061\n",
            "Epoch 128 .............. loss : 68.96796593822863  ....val_loss : 70.39853044284875\n",
            "Epoch 129 .............. loss : 68.50373797251686  ....val_loss : 70.10526784272243\n",
            "Epoch 130 .............. loss : 68.05716989489999  ....val_loss : 69.82792581793204\n",
            "Epoch 131 .............. loss : 67.62233053568569  ....val_loss : 69.5651900740343\n",
            "Epoch 132 .............. loss : 67.20563291554855  ....val_loss : 69.31272606070038\n",
            "Epoch 133 .............. loss : 66.81091184834129  ....val_loss : 69.07689704352184\n",
            "Epoch 134 .............. loss : 66.43093051592795  ....val_loss : 68.7976721706445\n",
            "Epoch 135 .............. loss : 66.07093888392023  ....val_loss : 68.5873023648592\n",
            "Epoch 136 .............. loss : 65.72812386299735  ....val_loss : 68.39054231508227\n",
            "Epoch 137 .............. loss : 65.40097235559912  ....val_loss : 68.20657684044058\n",
            "Epoch 138 .............. loss : 65.08983569785043  ....val_loss : 67.94228420659768\n",
            "Epoch 139 .............. loss : 64.79245648390162  ....val_loss : 67.78258406230702\n",
            "Epoch 140 .............. loss : 64.49873642063372  ....val_loss : 67.63420173962793\n",
            "Epoch 141 .............. loss : 64.22406863427958  ....val_loss : 67.49539498258784\n",
            "Epoch 142 .............. loss : 63.964881873292526  ....val_loss : 67.36687519282887\n",
            "Epoch 143 .............. loss : 63.70396249789373  ....val_loss : 67.24865382142737\n",
            "Epoch 144 .............. loss : 63.46518846859955  ....val_loss : 67.13775495703534\n",
            "Epoch 145 .............. loss : 63.241147135018565  ....val_loss : 67.03714451920355\n",
            "Epoch 146 .............. loss : 63.0285726713775  ....val_loss : 66.94534610082604\n",
            "Epoch 147 .............. loss : 62.82634790742648  ....val_loss : 66.85987599848048\n",
            "Epoch 148 .............. loss : 62.628279647448394  ....val_loss : 66.7777226217446\n",
            "Epoch 149 .............. loss : 62.44443820850438  ....val_loss : 66.70670335306032\n",
            "Epoch 150 .............. loss : 62.280320521603  ....val_loss : 66.6442050068155\n"
          ]
        }
      ]
    },
    {
      "cell_type": "code",
      "source": [
        "plot_learning_curve(h)"
      ],
      "metadata": {
        "colab": {
          "base_uri": "https://localhost:8080/",
          "height": 492
        },
        "id": "1d-N2yqLBX1z",
        "outputId": "7ecd17be-19fb-45a8-d8e6-ee5b812af112"
      },
      "execution_count": 68,
      "outputs": [
        {
          "output_type": "display_data",
          "data": {
            "text/plain": [
              "<Figure size 640x480 with 1 Axes>"
            ],
            "image/png": "[encoded data removed]"
          },
          "metadata": {}
        }
      ]
    },
    {
      "cell_type": "markdown",
      "source": [
        "# Comparaison Tensorflow"
      ],
      "metadata": {
        "id": "7_qbWLax_NMb"
      }
    },
    {
      "cell_type": "code",
      "source": [
        "import tensorflow as tf\n",
        "from tensorflow.keras.models import Sequential\n",
        "from tensorflow.keras.layers import Dense\n",
        "from tensorflow.keras.optimizers import SGD\n",
        "\n",
        "model = Sequential([Dense(units=3, activation='sigmoid'),\n",
        "                    Dense(units=5, activation='sigmoid'),\n",
        "                    Dense(units=1)])\n",
        "model.compile(optimizer=SGD(learning_rate=0.01), loss='mse')\n",
        "history = model.fit(X, Y, epochs=10)"
      ],
      "metadata": {
        "colab": {
          "base_uri": "https://localhost:8080/"
        },
        "collapsed": true,
        "id": "2OWmCKz3_MSb",
        "outputId": "75265c47-eab8-46b8-a823-7ead743bc8d5"
      },
      "execution_count": 371,
      "outputs": [
        {
          "output_type": "stream",
          "name": "stdout",
          "text": [
            "Epoch 1/10\n",
            "\u001b[1m1/1\u001b[0m \u001b[32m━━━━━━━━━━━━━━━━━━━━\u001b[0m\u001b[37m\u001b[0m \u001b[1m1s\u001b[0m 589ms/step - loss: 0.7390\n",
            "Epoch 2/10\n",
            "\u001b[1m1/1\u001b[0m \u001b[32m━━━━━━━━━━━━━━━━━━━━\u001b[0m\u001b[37m\u001b[0m \u001b[1m0s\u001b[0m 54ms/step - loss: 0.7382\n",
            "Epoch 3/10\n",
            "\u001b[1m1/1\u001b[0m \u001b[32m━━━━━━━━━━━━━━━━━━━━\u001b[0m\u001b[37m\u001b[0m \u001b[1m0s\u001b[0m 56ms/step - loss: 0.7375\n",
            "Epoch 4/10\n",
            "\u001b[1m1/1\u001b[0m \u001b[32m━━━━━━━━━━━━━━━━━━━━\u001b[0m\u001b[37m\u001b[0m \u001b[1m0s\u001b[0m 29ms/step - loss: 0.7368\n",
            "Epoch 5/10\n",
            "\u001b[1m1/1\u001b[0m \u001b[32m━━━━━━━━━━━━━━━━━━━━\u001b[0m\u001b[37m\u001b[0m \u001b[1m0s\u001b[0m 33ms/step - loss: 0.7361\n",
            "Epoch 6/10\n",
            "\u001b[1m1/1\u001b[0m \u001b[32m━━━━━━━━━━━━━━━━━━━━\u001b[0m\u001b[37m\u001b[0m \u001b[1m0s\u001b[0m 30ms/step - loss: 0.7355\n",
            "Epoch 7/10\n",
            "\u001b[1m1/1\u001b[0m \u001b[32m━━━━━━━━━━━━━━━━━━━━\u001b[0m\u001b[37m\u001b[0m \u001b[1m0s\u001b[0m 29ms/step - loss: 0.7350\n",
            "Epoch 8/10\n",
            "\u001b[1m1/1\u001b[0m \u001b[32m━━━━━━━━━━━━━━━━━━━━\u001b[0m\u001b[37m\u001b[0m \u001b[1m0s\u001b[0m 32ms/step - loss: 0.7344\n",
            "Epoch 9/10\n",
            "\u001b[1m1/1\u001b[0m \u001b[32m━━━━━━━━━━━━━━━━━━━━\u001b[0m\u001b[37m\u001b[0m \u001b[1m0s\u001b[0m 57ms/step - loss: 0.7339\n",
            "Epoch 10/10\n",
            "\u001b[1m1/1\u001b[0m \u001b[32m━━━━━━━━━━━━━━━━━━━━\u001b[0m\u001b[37m\u001b[0m \u001b[1m0s\u001b[0m 61ms/step - loss: 0.7335\n"
          ]
        }
      ]
    }
  ],
  "metadata": {
    "colab": {
      "provenance": []
    },
    "kernelspec": {
      "display_name": "Python 3",
      "name": "python3"
    },
    "language_info": {
      "name": "python"
    }
  },
  "nbformat": 4,
  "nbformat_minor": 0
}